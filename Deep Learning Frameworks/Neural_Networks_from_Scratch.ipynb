{
  "nbformat": 4,
  "nbformat_minor": 0,
  "metadata": {
    "colab": {
      "provenance": []
    },
    "kernelspec": {
      "name": "python3",
      "display_name": "Python 3"
    },
    "language_info": {
      "name": "python"
    }
  },
  "cells": [
    {
      "cell_type": "code",
      "execution_count": 2,
      "metadata": {
        "id": "Kj8VHuIEV6Ic"
      },
      "outputs": [],
      "source": [
        "import numpy as np\n",
        "\n",
        "def sigmoid(x):\n",
        "  return 1.0 / (1 + np.exp(-x))\n",
        "\n",
        "def sigmoid_derivative(x):\n",
        "  return x * (1.0 - x)"
      ]
    },
    {
      "cell_type": "code",
      "source": [
        "class NeuralNetwork:\n",
        "  def __init__(self, x, y, learning_rate=0.01):\n",
        "    self.input = x\n",
        "    self.weights1 = np.random.rand(self.input.shape[1], 4)\n",
        "    self.weights2 = np.random.rand(4, 1)\n",
        "    self.y = y\n",
        "    self.output = np.zeros(self.y.shape)\n",
        "    self.learning_rate = learning_rate\n",
        "\n",
        "  def feedforward(self):\n",
        "    self.layer1 = sigmoid(np.dot(self.input, self.weights1))\n",
        "    self.output = sigmoid(np.dot(self.layer1, self.weights2))\n",
        "\n",
        "  def backprop(self):\n",
        "    d_weights2 = np.dot(self.layer1.T, (2*(self.y - self.output) * sigmoid_derivative(self.output)))\n",
        "    d_weights1 = np.dot(self.input.T, (np.dot(2*(self.y - self.output) * sigmoid_derivative(self.output), self.weights2.T) * sigmoid_derivative(self.layer1)))\n",
        "\n",
        "    self.weights1 += self.learning_rate * d_weights1\n",
        "    self.weights2 += self.learning_rate * d_weights2\n",
        "\n",
        "  def train(self, epochs):\n",
        "    for epoch in range(epochs):\n",
        "        self.feedforward()\n",
        "        self.backprop()\n",
        "\n",
        "  def predict(self, new_input):\n",
        "    layer1 = sigmoid(np.dot(new_input, self.weights1))\n",
        "    output = sigmoid(np.dot(layer1, self.weights2))\n",
        "    return output"
      ],
      "metadata": {
        "id": "QWwPEszhV_DE"
      },
      "execution_count": 5,
      "outputs": []
    },
    {
      "cell_type": "code",
      "source": [
        "X = np.array([[0, 0, 1],\n",
        "              [0, 1, 1],\n",
        "              [1, 0, 1],\n",
        "              [1, 1, 1]])\n",
        "Y = np.array([[0], [1], [1], [0]])\n",
        "nn = NeuralNetwork(X, Y)\n",
        "\n",
        "nn.train(10000)\n",
        "print(\"\\nPredictions:\")\n",
        "for i, x in enumerate(X):\n",
        "    print(f\"Input: {x} ---> Prediction: {nn.predict(np.array([x]))}, Expected: {Y[i]}\")"
      ],
      "metadata": {
        "colab": {
          "base_uri": "https://localhost:8080/"
        },
        "id": "ceGbIF4dam9d",
        "outputId": "da5b5903-6a44-4d95-a30f-8ff99597e43a"
      },
      "execution_count": 6,
      "outputs": [
        {
          "output_type": "stream",
          "name": "stdout",
          "text": [
            "\n",
            "Predictions:\n",
            "Input: [0 0 1] ---> Prediction: [[0.38351258]], Expected: [0]\n",
            "Input: [0 1 1] ---> Prediction: [[0.60081936]], Expected: [1]\n",
            "Input: [1 0 1] ---> Prediction: [[0.49592679]], Expected: [1]\n",
            "Input: [1 1 1] ---> Prediction: [[0.55749698]], Expected: [0]\n"
          ]
        }
      ]
    }
  ]
}