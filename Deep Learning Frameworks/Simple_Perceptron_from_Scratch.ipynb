{
  "nbformat": 4,
  "nbformat_minor": 0,
  "metadata": {
    "colab": {
      "provenance": []
    },
    "kernelspec": {
      "name": "python3",
      "display_name": "Python 3"
    },
    "language_info": {
      "name": "python"
    }
  },
  "cells": [
    {
      "cell_type": "code",
      "source": [
        "class Perceptron:\n",
        "  def __init__(self, no_of_inputs, max_iterations=100, learning_rate=0.01):\n",
        "    self.max_iterations = max_iterations\n",
        "    self.learning_rate = learning_rate\n",
        "    self.weights = np.zeros(no_of_inputs + 1)\n",
        "\n",
        "  def predict(self, inputs):\n",
        "    summation = np.dot(inputs, self.weights[1:]) + self.weights[0]\n",
        "    if summation > 0:\n",
        "      activation = 1\n",
        "    else:\n",
        "      activation = 0\n",
        "    return activation\n",
        "\n",
        "  def train(self, training_inputs, labels):\n",
        "    for _ in range(self.max_iterations):\n",
        "      for inputs, label in zip(training_inputs, labels):\n",
        "        prediction = self.predict(inputs)\n",
        "        self.weights[1:] += self.learning_rate * (label - prediction) * inputs\n",
        "        self.weights[0] += self.learning_rate * (label - prediction)"
      ],
      "metadata": {
        "id": "zoCHjv2fMGpi"
      },
      "execution_count": 16,
      "outputs": []
    },
    {
      "cell_type": "code",
      "source": [
        "import numpy as np\n",
        "\n",
        "training_inputs = []\n",
        "training_inputs.append(np.array([1, 1]))\n",
        "training_inputs.append(np.array([1, 0]))\n",
        "training_inputs.append(np.array([0, 1]))\n",
        "training_inputs.append(np.array([0, 0]))\n",
        "labels = np.array([1, 0, 0, 0])\n",
        "\n",
        "perceptron = Perceptron(2)\n",
        "perceptron.train(training_inputs, labels)"
      ],
      "metadata": {
        "id": "KnS0m0H8NFZJ"
      },
      "execution_count": 17,
      "outputs": []
    },
    {
      "cell_type": "code",
      "source": [
        "inputs = np.array([1, 1])\n",
        "print(perceptron.predict(inputs))  # Output: 1\n",
        "\n",
        "inputs = np.array([0, 1])\n",
        "print(perceptron.predict(inputs))  # Output: 0"
      ],
      "metadata": {
        "colab": {
          "base_uri": "https://localhost:8080/"
        },
        "id": "95TpCoqNNF_h",
        "outputId": "194be51a-575a-4e37-d886-87eaf2a8632a"
      },
      "execution_count": 19,
      "outputs": [
        {
          "output_type": "stream",
          "name": "stdout",
          "text": [
            "1\n",
            "0\n"
          ]
        }
      ]
    }
  ]
}